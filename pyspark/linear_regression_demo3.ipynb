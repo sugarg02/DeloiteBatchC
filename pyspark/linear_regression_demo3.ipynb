{
 "cells": [
  {
   "cell_type": "code",
   "execution_count": 1,
   "metadata": {},
   "outputs": [],
   "source": [
    "import findspark\n",
    "findspark.init()\n",
    "import pyspark"
   ]
  },
  {
   "cell_type": "code",
   "execution_count": 2,
   "metadata": {},
   "outputs": [],
   "source": [
    "from pyspark.sql import SparkSession"
   ]
  },
  {
   "cell_type": "code",
   "execution_count": 3,
   "metadata": {},
   "outputs": [],
   "source": [
    "spark = SparkSession.builder.appName(\"Python Linear Regression example\").getOrCreate()"
   ]
  },
  {
   "cell_type": "code",
   "execution_count": 4,
   "metadata": {},
   "outputs": [],
   "source": [
    "from pyspark.ml.regression import LinearRegression\n",
    "from pyspark.ml.feature import VectorAssembler\n",
    "from pyspark.ml.feature import StandardScaler\n",
    "from pyspark.ml import Pipeline\n",
    "from pyspark.sql.functions import *"
   ]
  },
  {
   "cell_type": "code",
   "execution_count": 5,
   "metadata": {},
   "outputs": [
    {
     "name": "stdout",
     "output_type": "stream",
     "text": [
      "root\n",
      " |-- temperature: double (nullable = true)\n",
      " |-- exhaust_vacuum: double (nullable = true)\n",
      " |-- ambient_pressure: double (nullable = true)\n",
      " |-- relative_humidity: double (nullable = true)\n",
      " |-- energy_output: double (nullable = true)\n",
      "\n"
     ]
    }
   ],
   "source": [
    "data = spark.read.load(\"linregdata1.csv\", format=\"csv\", sep=\",\", inferSchema=\"true\", header=\"true\")\n",
    "data.printSchema()"
   ]
  },
  {
   "cell_type": "code",
   "execution_count": 6,
   "metadata": {},
   "outputs": [
    {
     "data": {
      "text/plain": [
       "DataFrame[summary: string, temperature: string, exhaust_vacuum: string, ambient_pressure: string, relative_humidity: string, energy_output: string]"
      ]
     },
     "execution_count": 6,
     "metadata": {},
     "output_type": "execute_result"
    }
   ],
   "source": [
    "data.describe()"
   ]
  },
  {
   "cell_type": "code",
   "execution_count": 7,
   "metadata": {},
   "outputs": [],
   "source": [
    "features = [\"temperature\", \"exhaust_vacuum\", \"ambient_pressure\", \"relative_humidity\"]"
   ]
  },
  {
   "cell_type": "code",
   "execution_count": 8,
   "metadata": {
    "scrolled": true
   },
   "outputs": [
    {
     "name": "stdout",
     "output_type": "stream",
     "text": [
      "root\n",
      " |-- label: double (nullable = true)\n",
      " |-- temperature: double (nullable = true)\n",
      " |-- exhaust_vacuum: double (nullable = true)\n",
      " |-- ambient_pressure: double (nullable = true)\n",
      " |-- relative_humidity: double (nullable = true)\n",
      "\n"
     ]
    }
   ],
   "source": [
    "lr_data = data.select(col(\"energy_output\").alias(\"label\"), *features)\n",
    "lr_data.printSchema()"
   ]
  },
  {
   "cell_type": "code",
   "execution_count": 9,
   "metadata": {},
   "outputs": [
    {
     "name": "stdout",
     "output_type": "stream",
     "text": [
      "+------+-----------+--------------+----------------+-----------------+\n",
      "| label|temperature|exhaust_vacuum|ambient_pressure|relative_humidity|\n",
      "+------+-----------+--------------+----------------+-----------------+\n",
      "|480.48|       8.34|         40.77|         1010.84|            90.01|\n",
      "|445.75|      23.64|         58.49|          1011.4|             74.2|\n",
      "|438.76|      29.74|          56.9|         1007.15|            41.91|\n",
      "|453.09|      19.07|         49.69|         1007.22|            76.79|\n",
      "|464.43|       11.8|         40.66|         1017.13|             97.2|\n",
      "|470.96|      13.97|         39.16|         1016.05|             84.6|\n",
      "|442.35|       22.1|         71.29|          1008.2|            75.38|\n",
      "| 464.0|      14.47|         41.76|         1021.98|            78.41|\n",
      "|428.77|      31.25|         69.51|         1010.25|            36.83|\n",
      "|484.31|       6.77|         38.18|          1017.8|            81.13|\n",
      "|435.29|      28.28|         68.67|         1006.36|             69.9|\n",
      "|451.41|      22.99|         46.93|         1014.15|            49.42|\n",
      "|426.25|       29.3|         70.04|         1010.95|            61.23|\n",
      "|480.66|       8.14|         37.49|         1009.04|            80.33|\n",
      "|460.17|      16.92|          44.6|         1017.34|            58.75|\n",
      "|453.13|      22.72|         64.15|         1021.14|            60.34|\n",
      "|461.71|      18.14|         43.56|         1012.83|             47.1|\n",
      "|471.08|      11.49|         44.63|         1020.44|            86.04|\n",
      "|473.74|       9.94|         40.46|          1018.9|            68.51|\n",
      "|448.56|      23.54|          41.1|         1002.05|            38.05|\n",
      "+------+-----------+--------------+----------------+-----------------+\n",
      "only showing top 20 rows\n",
      "\n"
     ]
    }
   ],
   "source": [
    "lr_data.show()"
   ]
  },
  {
   "cell_type": "code",
   "execution_count": 10,
   "metadata": {},
   "outputs": [],
   "source": [
    "(training, test) = lr_data.randomSplit([.7, .3])"
   ]
  },
  {
   "cell_type": "markdown",
   "metadata": {},
   "source": [
    "VectorAssembler is a transformer that combines a given list of columns into a single vector column."
   ]
  },
  {
   "cell_type": "code",
   "execution_count": 11,
   "metadata": {},
   "outputs": [],
   "source": [
    "vectorAssembler = VectorAssembler(inputCols=features, outputCol=\"unscaled_features\")"
   ]
  },
  {
   "cell_type": "markdown",
   "metadata": {},
   "source": [
    "StandardScaler transforms a dataset of Vector rows, normalizing each feature to have unit standard deviation or zero mean.\n",
    "Uses 'withStd' by default i.e. scales the data to unit standard deviation."
   ]
  },
  {
   "cell_type": "code",
   "execution_count": 12,
   "metadata": {},
   "outputs": [],
   "source": [
    "standardScaler = StandardScaler(inputCol=\"unscaled_features\", outputCol=\"features\")"
   ]
  },
  {
   "cell_type": "code",
   "execution_count": 13,
   "metadata": {},
   "outputs": [],
   "source": [
    "lr = LinearRegression(maxIter=10, regParam=.02)"
   ]
  },
  {
   "cell_type": "code",
   "execution_count": 14,
   "metadata": {},
   "outputs": [],
   "source": [
    "stages = [vectorAssembler, standardScaler, lr]\n",
    "pipeline = Pipeline(stages=stages)"
   ]
  },
  {
   "cell_type": "code",
   "execution_count": 15,
   "metadata": {},
   "outputs": [],
   "source": [
    "model = pipeline.fit(training)"
   ]
  },
  {
   "cell_type": "code",
   "execution_count": 16,
   "metadata": {},
   "outputs": [],
   "source": [
    "prediction_df = model.transform(test)"
   ]
  },
  {
   "cell_type": "code",
   "execution_count": 17,
   "metadata": {},
   "outputs": [
    {
     "name": "stdout",
     "output_type": "stream",
     "text": [
      "+------+-----------+--------------+----------------+-----------------+---------------------------+-----------------------------------------------------------------------------+------------------+\n",
      "|label |temperature|exhaust_vacuum|ambient_pressure|relative_humidity|unscaled_features          |features                                                                     |prediction        |\n",
      "+------+-----------+--------------+----------------+-----------------+---------------------------+-----------------------------------------------------------------------------+------------------+\n",
      "|420.26|24.27      |63.87         |1018.88         |53.96            |[24.27,63.87,1018.88,53.96]|[3.246374445067361,4.987386051747315,172.45562976078398,3.696612465594044]   |446.5038791109836 |\n",
      "|421.57|23.0       |66.05         |1020.61         |80.29            |[23.0,66.05,1020.61,80.29] |[3.0764982380119203,5.1576146660076745,172.74844956241532,5.5003894526046295]|444.43181614247106|\n",
      "|425.17|32.66      |73.68         |1014.64         |40.88            |[32.66,73.68,1014.64,40.88]|[4.368627497976926,5.753414815918933,171.73796735678573,2.800547027306978]   |429.4921076419873 |\n",
      "|425.18|32.84      |68.14         |1003.59         |43.88            |[32.84,68.14,1003.59,43.88]|[4.392704440709195,5.320815493440771,169.8676443463658,3.0060666232443785]   |429.26610560028695|\n",
      "|425.3 |30.9       |69.4          |1003.53         |66.69            |[30.9,69.4,1003.53,66.69]  |[4.133208502372536,5.419204509022447,169.8574887463092,4.568700617688413]    |429.17969254269883|\n",
      "|425.5 |34.18      |67.9          |1005.87         |30.34            |[34.18,67.9,1005.87,30.34] |[4.571943903271628,5.302074728568072,170.2535571485158,2.0784881802469104]   |428.9646132277076 |\n",
      "|425.61|32.56      |68.94         |1007.12         |58.18            |[32.56,68.94,1007.12,58.18]|[4.355251418681223,5.383284709683105,170.4651321496945,3.985710030545987]    |427.57765737291896|\n",
      "|425.66|30.96      |71.77         |1006.26         |52.76            |[30.96,71.77,1006.26,52.76]|[4.141234149949959,5.60426956214036,170.31956854888355,3.6144046272190837]   |430.89325073138076|\n",
      "|425.68|31.46      |70.79         |1003.54         |59.51            |[31.46,70.79,1003.54,59.51]|[4.2081145464284795,5.527744772243502,169.85918134631865,4.076823718078235]  |428.89428648875537|\n",
      "|425.91|31.4       |66.54         |1003.55         |57.73            |[31.4,66.54,1003.55,57.73] |[4.200088898851057,5.1958770609561045,169.86087394632807,3.954882091155377]  |430.2764705565717 |\n",
      "|426.13|30.03      |67.9          |1006.22         |52.61            |[30.03,67.9,1006.22,52.61] |[4.016836612499912,5.302074728568072,170.31279814884584,3.604128647422214]   |433.64392232138164|\n",
      "|426.2 |28.26      |72.43         |1006.68         |72.3             |[28.26,72.43,1006.68,72.3] |[3.780080008965951,5.655806665540286,170.3906577492796,4.953022262091352]    |432.99472383903185|\n",
      "|426.25|30.24      |68.24         |1009.68         |64.67            |[30.24,68.24,1009.68,64.67]|[4.04492637902089,5.328624145471062,170.89843775210855,4.430317423090564]    |431.4454751087658 |\n",
      "|426.31|31.05      |69.13         |1000.38         |58.49            |[31.05,69.13,1000.38,58.49]|[4.153272621316093,5.398121148540659,169.32431974333883,4.006947055459519]   |430.0567557724375 |\n",
      "|426.35|31.67      |69.89         |1013.88         |39.33            |[31.67,69.89,1013.88,39.33]|[4.236204312949457,5.457466903970876,171.60932975606906,2.694361902739321]   |432.5214213802506 |\n",
      "|426.5 |31.8       |69.05         |1000.77         |49.82            |[31.8,69.05,1000.77,49.82] |[4.253593216033873,5.391874226916426,169.3903311437066,3.412995423200431]    |429.99500150786275|\n",
      "|426.52|30.3       |71.98         |1004.4          |55.6             |[30.3,71.98,1004.4,55.6]   |[4.052952026598312,5.620667731403973,170.0047449471296,3.808963178039823]    |431.5839763658618 |\n",
      "|426.53|29.28      |74.33         |1011.66         |72.37            |[29.28,74.33,1011.66,72.37]|[3.916516017782132,5.804171054115828,171.23357255397565,4.957817719329892]   |430.83381739647854|\n",
      "|426.64|31.01      |67.69         |1005.06         |46.16            |[31.01,67.69,1005.06,46.16]|[4.147922189597812,5.285676559304458,170.11645654775197,3.162261516156802]   |432.71105699600463|\n",
      "|426.76|32.37      |67.83         |1008.32         |57.39            |[32.37,67.83,1008.32,57.39]|[4.3298368680193855,5.296608672146867,170.6682441508261,3.931589870282472]   |428.40737120675226|\n",
      "+------+-----------+--------------+----------------+-----------------+---------------------------+-----------------------------------------------------------------------------+------------------+\n",
      "only showing top 20 rows\n",
      "\n"
     ]
    }
   ],
   "source": [
    "prediction_df.show(truncate=False)"
   ]
  },
  {
   "cell_type": "code",
   "execution_count": 18,
   "metadata": {},
   "outputs": [
    {
     "name": "stdout",
     "output_type": "stream",
     "text": [
      "+------+------------------+\n",
      "|label |prediction        |\n",
      "+------+------------------+\n",
      "|420.26|446.5038791109836 |\n",
      "|421.57|444.43181614247106|\n",
      "|425.17|429.4921076419873 |\n",
      "|425.18|429.26610560028695|\n",
      "|425.3 |429.17969254269883|\n",
      "|425.5 |428.9646132277076 |\n",
      "|425.61|427.57765737291896|\n",
      "|425.66|430.89325073138076|\n",
      "|425.68|428.89428648875537|\n",
      "|425.91|430.2764705565717 |\n",
      "|426.13|433.64392232138164|\n",
      "|426.2 |432.99472383903185|\n",
      "|426.25|431.4454751087658 |\n",
      "|426.31|430.0567557724375 |\n",
      "|426.35|432.5214213802506 |\n",
      "|426.5 |429.99500150786275|\n",
      "|426.52|431.5839763658618 |\n",
      "|426.53|430.83381739647854|\n",
      "|426.64|432.71105699600463|\n",
      "|426.76|428.40737120675226|\n",
      "+------+------------------+\n",
      "only showing top 20 rows\n",
      "\n"
     ]
    }
   ],
   "source": [
    "prediction_df.select(\"label\",\"prediction\").show(truncate=False)"
   ]
  },
  {
   "cell_type": "code",
   "execution_count": 19,
   "metadata": {},
   "outputs": [],
   "source": [
    "from pyspark.ml.evaluation import RegressionEvaluator\n",
    "eval = RegressionEvaluator(labelCol=\"label\", predictionCol=\"prediction\", metricName=\"rmse\")"
   ]
  },
  {
   "cell_type": "code",
   "execution_count": 20,
   "metadata": {},
   "outputs": [
    {
     "name": "stdout",
     "output_type": "stream",
     "text": [
      "RMSE: 4.519\n"
     ]
    }
   ],
   "source": [
    "rmse = eval.evaluate(prediction_df)\n",
    "print(\"RMSE: %.3f\" % rmse)"
   ]
  },
  {
   "cell_type": "code",
   "execution_count": 21,
   "metadata": {},
   "outputs": [
    {
     "name": "stdout",
     "output_type": "stream",
     "text": [
      "MSE: 20.424\n"
     ]
    }
   ],
   "source": [
    "mse = eval.evaluate(prediction_df, {eval.metricName: \"mse\"})\n",
    "print(\"MSE: %.3f\" % mse)"
   ]
  },
  {
   "cell_type": "code",
   "execution_count": 22,
   "metadata": {},
   "outputs": [
    {
     "name": "stdout",
     "output_type": "stream",
     "text": [
      "MAE: 3.623\n"
     ]
    }
   ],
   "source": [
    "mae = eval.evaluate(prediction_df, {eval.metricName: \"mae\"})\n",
    "print(\"MAE: %.3f\" % mae)"
   ]
  },
  {
   "cell_type": "code",
   "execution_count": 23,
   "metadata": {},
   "outputs": [
    {
     "name": "stdout",
     "output_type": "stream",
     "text": [
      "r2: 0.930\n"
     ]
    }
   ],
   "source": [
    "r2 = eval.evaluate(prediction_df, {eval.metricName: \"r2\"})\n",
    "print(\"r2: %.3f\" %r2)"
   ]
  },
  {
   "cell_type": "code",
   "execution_count": null,
   "metadata": {},
   "outputs": [],
   "source": []
  }
 ],
 "metadata": {
  "kernelspec": {
   "display_name": "Python 3",
   "language": "python",
   "name": "python3"
  },
  "language_info": {
   "codemirror_mode": {
    "name": "ipython",
    "version": 3
   },
   "file_extension": ".py",
   "mimetype": "text/x-python",
   "name": "python",
   "nbconvert_exporter": "python",
   "pygments_lexer": "ipython3",
   "version": "3.5.2"
  }
 },
 "nbformat": 4,
 "nbformat_minor": 2
}
