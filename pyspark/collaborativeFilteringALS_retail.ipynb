{
 "cells": [
  {
   "cell_type": "markdown",
   "metadata": {},
   "source": [
    "# Collaborative Filtering ALS for a retail data set\n",
    "\n",
    "Import findspark and initiate. Then import pyspark"
   ]
  },
  {
   "cell_type": "code",
   "execution_count": 1,
   "metadata": {},
   "outputs": [],
   "source": [
    "import findspark\n",
    "findspark.init('/usr/local/spark')\n",
    "import pyspark"
   ]
  },
  {
   "cell_type": "markdown",
   "metadata": {},
   "source": [
    "Start Spark Session"
   ]
  },
  {
   "cell_type": "code",
   "execution_count": 2,
   "metadata": {},
   "outputs": [],
   "source": [
    "from pyspark.sql import SparkSession"
   ]
  },
  {
   "cell_type": "code",
   "execution_count": 3,
   "metadata": {},
   "outputs": [],
   "source": [
    "spark = SparkSession.builder.appName(\"PySpark Collaborative Filtering ALS example\").getOrCreate()"
   ]
  },
  {
   "cell_type": "markdown",
   "metadata": {},
   "source": [
    "Import libraries for ALS"
   ]
  },
  {
   "cell_type": "code",
   "execution_count": 4,
   "metadata": {},
   "outputs": [],
   "source": [
    "from pyspark.ml.recommendation import ALS\n",
    "from pyspark.sql.functions import *"
   ]
  },
  {
   "cell_type": "markdown",
   "metadata": {},
   "source": [
    "Create Spark Context object"
   ]
  },
  {
   "cell_type": "code",
   "execution_count": 5,
   "metadata": {},
   "outputs": [
    {
     "data": {
      "text/plain": [
       "2554634"
      ]
     },
     "execution_count": 5,
     "metadata": {},
     "output_type": "execute_result"
    }
   ],
   "source": [
    "retailData = spark.read.load(\"retail_2013.csv\", format=\"csv\", inferSchema=\"true\", header=\"false\")\n",
    "retailData.count()"
   ]
  },
  {
   "cell_type": "code",
   "execution_count": 6,
   "metadata": {},
   "outputs": [
    {
     "name": "stdout",
     "output_type": "stream",
     "text": [
      "root\n",
      " |-- _c0: integer (nullable = true)\n",
      " |-- _c1: timestamp (nullable = true)\n",
      " |-- _c2: integer (nullable = true)\n",
      " |-- _c3: string (nullable = true)\n",
      " |-- _c4: string (nullable = true)\n",
      " |-- _c5: integer (nullable = true)\n",
      " |-- _c6: integer (nullable = true)\n",
      " |-- _c7: integer (nullable = true)\n",
      "\n"
     ]
    }
   ],
   "source": [
    "retailData.printSchema()"
   ]
  },
  {
   "cell_type": "markdown",
   "metadata": {},
   "source": [
    "Collaborative Filtering of spark.ml uses ALS (Alternatiing Least Squares) algorithm.\n",
    "The input dataframe is expected to have the three columns userCol, itemCol and ratingCol.\n",
    "In our retail data set, we will use the customer id column as userCol.\n",
    "We will generate a product index for each product name (column _c4) and use them as itemCol.\n",
    "We will get the number of times a user bought a product and use it for ratingCol.\n",
    "We will set the input parameter implicitPrefs as true because we do not have explicit feedback such as rating of a product."
   ]
  },
  {
   "cell_type": "code",
   "execution_count": 7,
   "metadata": {},
   "outputs": [],
   "source": [
    "from pyspark.ml.feature import StringIndexer"
   ]
  },
  {
   "cell_type": "code",
   "execution_count": 8,
   "metadata": {},
   "outputs": [],
   "source": [
    "indexer = StringIndexer(inputCol=\"_c4\", outputCol=\"ProductIndex\")\n",
    "retailData1 = indexer.fit(retailData).transform(retailData)"
   ]
  },
  {
   "cell_type": "code",
   "execution_count": 9,
   "metadata": {},
   "outputs": [
    {
     "name": "stdout",
     "output_type": "stream",
     "text": [
      "+---+-------------------+------+-------------------------------------+---------------------+----+-----+---+------------+\n",
      "|_c0|_c1                |_c2   |_c3                                  |_c4                  |_c5 |_c6  |_c7|ProductIndex|\n",
      "+---+-------------------+------+-------------------------------------+---------------------+----+-----+---+------------+\n",
      "|1  |2013-01-01 01:41:46|443111|Household appliance stores           |Refrigerators        |875 |14640|1  |68.0        |\n",
      "|1  |2013-01-01 02:18:34|45322 |Gift  novelty  and souvenir stores   |Sun glasses          |58  |12503|1  |97.0        |\n",
      "|1  |2013-01-01 12:09:03|446   |Health and personal care stores      |Health monitors      |184 |16266|1  |32.0        |\n",
      "|1  |2013-01-01 00:10:20|4421  |Furniture stores                     |Study room furniture |209 |16625|1  |17.0        |\n",
      "|1  |2013-01-01 13:39:08|44413 | Hardware stores                     |Saws                 |57  |16194|1  |57.0        |\n",
      "|1  |2013-01-01 22:13:46|44312 | Computer and software stores        |Monitors             |435 |10628|1  |91.0        |\n",
      "|1  |2013-01-01 13:25:03|4482  |Shoe stores                          |Sports shoes         |146 |13449|1  |129.0       |\n",
      "|1  |2013-01-01 13:26:16|443112| Radio  T.V.  and other elect. stores|TV & Video           |4007|18826|1  |137.0       |\n",
      "|1  |2013-01-01 14:09:13|4451  |Grocery stores                       |Snacks               |88  |12966|1  |101.0       |\n",
      "|1  |2013-01-01 18:29:29|451220|Book Stores                          |Audio books          |93  |18123|1  |153.0       |\n",
      "|1  |2013-01-01 17:12:53|45322 |Gift  novelty  and souvenir stores   |Decorative items     |90  |14547|1  |25.0        |\n",
      "|1  |2013-01-01 06:39:24|446   |Health and personal care stores      |Smoking cessation    |264 |14220|1  |61.0        |\n",
      "|1  |2013-01-01 06:00:06|44412 |Paint and wallpaper stores           |Branded paints       |914 |11750|1  |70.0        |\n",
      "|1  |2013-01-01 08:52:35|45112 | Hobby  toy  and game stores         |Preschool toys       |35  |19458|1  |88.0        |\n",
      "|1  |2013-01-01 03:30:38|44312 | Computer and software stores        |Monitors             |56  |18092|1  |91.0        |\n",
      "|1  |2013-01-01 14:56:18|4421  |Furniture stores                     |Living room furniture|1262|14002|1  |22.0        |\n",
      "|1  |2013-01-01 16:16:22|443112| Radio  T.V.  and other elect. stores|TV & Video           |4652|16029|1  |137.0       |\n",
      "|1  |2013-01-01 02:54:55|446   |Health and personal care stores      |Household supplies   |339 |13701|1  |115.0       |\n",
      "|1  |2013-01-01 19:41:43|45112 | Hobby  toy  and game stores         |RC vehicles          |521 |11923|1  |140.0       |\n",
      "|1  |2013-01-01 05:31:27|45322 |Gift  novelty  and souvenir stores   |Personal items       |62  |14514|1  |9.0         |\n",
      "+---+-------------------+------+-------------------------------------+---------------------+----+-----+---+------------+\n",
      "only showing top 20 rows\n",
      "\n"
     ]
    }
   ],
   "source": [
    "retailData1.show(truncate=False)"
   ]
  },
  {
   "cell_type": "code",
   "execution_count": 10,
   "metadata": {},
   "outputs": [
    {
     "name": "stdout",
     "output_type": "stream",
     "text": [
      "root\n",
      " |-- ProductIndex: double (nullable = true)\n",
      " |-- CustomerId: integer (nullable = true)\n",
      "\n",
      "+------------+----------+\n",
      "|ProductIndex|CustomerId|\n",
      "+------------+----------+\n",
      "|        68.0|     14640|\n",
      "|        97.0|     12503|\n",
      "|        32.0|     16266|\n",
      "|        17.0|     16625|\n",
      "|        57.0|     16194|\n",
      "+------------+----------+\n",
      "only showing top 5 rows\n",
      "\n"
     ]
    }
   ],
   "source": [
    "retailData2 = retailData1.select('ProductIndex',col(\"_c6\").alias(\"CustomerId\"))\n",
    "retailData2.printSchema()\n",
    "retailData2.show(5)"
   ]
  },
  {
   "cell_type": "code",
   "execution_count": 11,
   "metadata": {},
   "outputs": [],
   "source": [
    "retailData3=retailData2.groupBy(\"ProductIndex\", \"CustomerId\").count()"
   ]
  },
  {
   "cell_type": "code",
   "execution_count": 12,
   "metadata": {},
   "outputs": [
    {
     "name": "stdout",
     "output_type": "stream",
     "text": [
      "root\n",
      " |-- ProductIndex: double (nullable = true)\n",
      " |-- CustomerId: integer (nullable = true)\n",
      " |-- count: long (nullable = false)\n",
      "\n",
      "+------------+----------+-----+\n",
      "|ProductIndex|CustomerId|count|\n",
      "+------------+----------+-----+\n",
      "|        17.0|     10024|    1|\n",
      "|        58.0|     13278|    1|\n",
      "|         3.0|     15331|    1|\n",
      "|        34.0|     13037|    2|\n",
      "|        96.0|     26986|    1|\n",
      "|       130.0|     27242|    1|\n",
      "|       153.0|     40674|    1|\n",
      "|        44.0|     40769|    1|\n",
      "|        97.0|     57281|    1|\n",
      "|       155.0|     50594|    1|\n",
      "|        14.0|     54659|    1|\n",
      "|        56.0|     57917|    1|\n",
      "|        66.0|     67818|    1|\n",
      "|        80.0|     63618|    1|\n",
      "|        67.0|     72022|    1|\n",
      "|       120.0|     76786|    1|\n",
      "|        87.0|     70551|    1|\n",
      "|       149.0|     79213|    2|\n",
      "|       147.0|     71824|    1|\n",
      "|        36.0|     83221|    2|\n",
      "+------------+----------+-----+\n",
      "only showing top 20 rows\n",
      "\n"
     ]
    }
   ],
   "source": [
    "retailData3.printSchema()\n",
    "retailData3.show()"
   ]
  },
  {
   "cell_type": "code",
   "execution_count": 13,
   "metadata": {},
   "outputs": [],
   "source": [
    "# Changing column name of count to Count and type to double"
   ]
  },
  {
   "cell_type": "code",
   "execution_count": 14,
   "metadata": {},
   "outputs": [],
   "source": [
    "retailData4=retailData3.withColumn(\"Count\", expr(\"CAST(count AS DOUBLE)\"))"
   ]
  },
  {
   "cell_type": "code",
   "execution_count": 15,
   "metadata": {},
   "outputs": [
    {
     "name": "stdout",
     "output_type": "stream",
     "text": [
      "root\n",
      " |-- ProductIndex: double (nullable = true)\n",
      " |-- CustomerId: integer (nullable = true)\n",
      " |-- Count: double (nullable = false)\n",
      "\n",
      "+------------+----------+-----+\n",
      "|ProductIndex|CustomerId|Count|\n",
      "+------------+----------+-----+\n",
      "|        17.0|     10024|  1.0|\n",
      "|        58.0|     13278|  1.0|\n",
      "|         3.0|     15331|  1.0|\n",
      "|        34.0|     13037|  2.0|\n",
      "|        96.0|     26986|  1.0|\n",
      "|       130.0|     27242|  1.0|\n",
      "|       153.0|     40674|  1.0|\n",
      "|        44.0|     40769|  1.0|\n",
      "|        97.0|     57281|  1.0|\n",
      "|       155.0|     50594|  1.0|\n",
      "|        14.0|     54659|  1.0|\n",
      "|        56.0|     57917|  1.0|\n",
      "|        66.0|     67818|  1.0|\n",
      "|        80.0|     63618|  1.0|\n",
      "|        67.0|     72022|  1.0|\n",
      "|       120.0|     76786|  1.0|\n",
      "|        87.0|     70551|  1.0|\n",
      "|       149.0|     79213|  2.0|\n",
      "|       147.0|     71824|  1.0|\n",
      "|        36.0|     83221|  2.0|\n",
      "+------------+----------+-----+\n",
      "only showing top 20 rows\n",
      "\n"
     ]
    }
   ],
   "source": [
    "retailData4.printSchema()\n",
    "retailData4.show()"
   ]
  },
  {
   "cell_type": "markdown",
   "metadata": {},
   "source": [
    "Define ALS object and traing the model using fit method on the dataframe"
   ]
  },
  {
   "cell_type": "code",
   "execution_count": 16,
   "metadata": {},
   "outputs": [],
   "source": [
    "als = ALS(maxIter=5, regParam=0.01, userCol=\"CustomerId\", itemCol=\"ProductIndex\", ratingCol=\"Count\", implicitPrefs=True, alpha=1.0)"
   ]
  },
  {
   "cell_type": "code",
   "execution_count": 17,
   "metadata": {},
   "outputs": [],
   "source": [
    "model = als.fit(retailData4)"
   ]
  },
  {
   "cell_type": "code",
   "execution_count": 18,
   "metadata": {},
   "outputs": [],
   "source": [
    "# Create a dataframe, productDF that contains distinct product names and product indexes"
   ]
  },
  {
   "cell_type": "code",
   "execution_count": 19,
   "metadata": {},
   "outputs": [
    {
     "name": "stdout",
     "output_type": "stream",
     "text": [
      "root\n",
      " |-- ProductName: string (nullable = true)\n",
      " |-- ProductIndex: double (nullable = true)\n",
      "\n"
     ]
    }
   ],
   "source": [
    "productDF = retailData1.select(col(\"_c4\").alias(\"ProductName\"),'ProductIndex').distinct()\n",
    "productDF.printSchema()"
   ]
  },
  {
   "cell_type": "code",
   "execution_count": 20,
   "metadata": {},
   "outputs": [
    {
     "data": {
      "text/plain": [
       "160"
      ]
     },
     "execution_count": 20,
     "metadata": {},
     "output_type": "execute_result"
    }
   ],
   "source": [
    "productDF.count()"
   ]
  },
  {
   "cell_type": "code",
   "execution_count": 21,
   "metadata": {},
   "outputs": [
    {
     "name": "stdout",
     "output_type": "stream",
     "text": [
      "+--------------------+------------+\n",
      "|         ProductName|ProductIndex|\n",
      "+--------------------+------------+\n",
      "|            Perfumes|         0.0|\n",
      "|      Airated drinks|         1.0|\n",
      "|  Mystery & thriller|         2.0|\n",
      "|         Dishwashers|         3.0|\n",
      "|       Other jewelry|         4.0|\n",
      "|     Packaged fruits|         5.0|\n",
      "|      Wheels & Tires|         6.0|\n",
      "|       Running shoes|         7.0|\n",
      "| Parts & Accessories|         8.0|\n",
      "|      Personal items|         9.0|\n",
      "|     Steoreo Systems|        10.0|\n",
      "|             Juicers|        11.0|\n",
      "|        Writing aids|        12.0|\n",
      "|       Classic books|        13.0|\n",
      "|       Arts & Crafts|        14.0|\n",
      "| Dolls & accessories|        15.0|\n",
      "|Engine & Drive train|        16.0|\n",
      "|Study room furniture|        17.0|\n",
      "|     Loose gemstones|        18.0|\n",
      "|Boating & water s...|        19.0|\n",
      "+--------------------+------------+\n",
      "only showing top 20 rows\n",
      "\n"
     ]
    }
   ],
   "source": [
    "productDF.orderBy('ProductIndex').show()"
   ]
  },
  {
   "cell_type": "markdown",
   "metadata": {},
   "source": [
    "To get recommendations for a customer, for example customer id 43124, create a data frame, testDF from productDF that contains all the product indexes (and product names). To this add a column CustomerId whose value is the given customer id which in this case 43124 and column Count as 0.0."
   ]
  },
  {
   "cell_type": "code",
   "execution_count": 22,
   "metadata": {},
   "outputs": [
    {
     "name": "stdout",
     "output_type": "stream",
     "text": [
      "root\n",
      " |-- ProductName: string (nullable = true)\n",
      " |-- ProductIndex: double (nullable = true)\n",
      " |-- CustomerId: integer (nullable = false)\n",
      " |-- Count: double (nullable = false)\n",
      "\n",
      "+--------------------+------------+----------+-----+\n",
      "|         ProductName|ProductIndex|CustomerId|Count|\n",
      "+--------------------+------------+----------+-----+\n",
      "|      Romance novels|       102.0|     43124|  0.0|\n",
      "|       Personal care|       100.0|     43124|  0.0|\n",
      "|Portable audio & ...|       106.0|     43124|  0.0|\n",
      "|          Text books|       108.0|     43124|  0.0|\n",
      "|  Office electronics|       120.0|     43124|  0.0|\n",
      "|   Smoking cessation|        61.0|     43124|  0.0|\n",
      "|            Perfumes|         0.0|     43124|  0.0|\n",
      "|    Unbranded paints|        44.0|     43124|  0.0|\n",
      "|       Arts & Crafts|        14.0|     43124|  0.0|\n",
      "|             Tablets|        81.0|     43124|  0.0|\n",
      "|  Gameroom & Leisure|        27.0|     43124|  0.0|\n",
      "|      Girls clothing|        35.0|     43124|  0.0|\n",
      "|             Fiction|        65.0|     43124|  0.0|\n",
      "|       Classic books|        13.0|     43124|  0.0|\n",
      "|         Head Lights|        66.0|     43124|  0.0|\n",
      "|      Golf equipment|        69.0|     43124|  0.0|\n",
      "|     Childrens books|       131.0|     43124|  0.0|\n",
      "|         Dishwashers|         3.0|     43124|  0.0|\n",
      "|  Window furnishings|       155.0|     43124|  0.0|\n",
      "|Chocolates & Candies|       103.0|     43124|  0.0|\n",
      "+--------------------+------------+----------+-----+\n",
      "only showing top 20 rows\n",
      "\n"
     ]
    }
   ],
   "source": [
    "testDF=productDF.withColumn('CustomerId', lit(43124)).withColumn('Count', lit(0.0))\n",
    "testDF.printSchema()\n",
    "testDF.show()"
   ]
  },
  {
   "cell_type": "code",
   "execution_count": 23,
   "metadata": {},
   "outputs": [
    {
     "name": "stdout",
     "output_type": "stream",
     "text": [
      "root\n",
      " |-- ProductName: string (nullable = true)\n",
      " |-- ProductIndex: double (nullable = true)\n",
      " |-- CustomerId: integer (nullable = false)\n",
      " |-- Count: double (nullable = false)\n",
      " |-- prediction: float (nullable = true)\n",
      "\n"
     ]
    }
   ],
   "source": [
    "predictions = model.transform(testDF)\n",
    "predictions.printSchema()"
   ]
  },
  {
   "cell_type": "code",
   "execution_count": 24,
   "metadata": {},
   "outputs": [
    {
     "name": "stdout",
     "output_type": "stream",
     "text": [
      "+--------------------+------------+----------+-----+----------+\n",
      "|         ProductName|ProductIndex|CustomerId|Count|prediction|\n",
      "+--------------------+------------+----------+-----+----------+\n",
      "|            Perfumes|         0.0|     43124|  0.0| 0.5862731|\n",
      "|Sterling silver j...|       124.0|     43124|  0.0| 0.5718691|\n",
      "|         board games|       156.0|     43124|  0.0| 0.4935474|\n",
      "|   Smoking cessation|        61.0|     43124|  0.0| 0.4852053|\n",
      "|      Wheels & Tires|         6.0|     43124|  0.0| 0.4648381|\n",
      "+--------------------+------------+----------+-----+----------+\n",
      "\n"
     ]
    }
   ],
   "source": [
    "predictions.orderBy(\"prediction\", ascending=False).limit(5).show()"
   ]
  },
  {
   "cell_type": "code",
   "execution_count": 25,
   "metadata": {},
   "outputs": [
    {
     "name": "stdout",
     "output_type": "stream",
     "text": [
      "root\n",
      " |-- ProductName: string (nullable = true)\n",
      " |-- ProductIndex: double (nullable = true)\n",
      " |-- CustomerId: integer (nullable = false)\n",
      " |-- Count: double (nullable = false)\n",
      "\n",
      "+--------------------+------------+----------+-----+\n",
      "|         ProductName|ProductIndex|CustomerId|Count|\n",
      "+--------------------+------------+----------+-----+\n",
      "|      Romance novels|       102.0|     99970|  0.0|\n",
      "|       Personal care|       100.0|     99970|  0.0|\n",
      "|Portable audio & ...|       106.0|     99970|  0.0|\n",
      "|          Text books|       108.0|     99970|  0.0|\n",
      "|  Office electronics|       120.0|     99970|  0.0|\n",
      "|   Smoking cessation|        61.0|     99970|  0.0|\n",
      "|            Perfumes|         0.0|     99970|  0.0|\n",
      "|    Unbranded paints|        44.0|     99970|  0.0|\n",
      "|       Arts & Crafts|        14.0|     99970|  0.0|\n",
      "|             Tablets|        81.0|     99970|  0.0|\n",
      "|  Gameroom & Leisure|        27.0|     99970|  0.0|\n",
      "|      Girls clothing|        35.0|     99970|  0.0|\n",
      "|             Fiction|        65.0|     99970|  0.0|\n",
      "|       Classic books|        13.0|     99970|  0.0|\n",
      "|         Head Lights|        66.0|     99970|  0.0|\n",
      "|      Golf equipment|        69.0|     99970|  0.0|\n",
      "|     Childrens books|       131.0|     99970|  0.0|\n",
      "|         Dishwashers|         3.0|     99970|  0.0|\n",
      "|  Window furnishings|       155.0|     99970|  0.0|\n",
      "|Chocolates & Candies|       103.0|     99970|  0.0|\n",
      "+--------------------+------------+----------+-----+\n",
      "only showing top 20 rows\n",
      "\n"
     ]
    }
   ],
   "source": [
    "testDF2=productDF.withColumn('CustomerId', lit(99970)).withColumn('Count', lit(0.0))\n",
    "testDF2.printSchema()\n",
    "testDF2.show()"
   ]
  },
  {
   "cell_type": "code",
   "execution_count": 26,
   "metadata": {},
   "outputs": [
    {
     "name": "stdout",
     "output_type": "stream",
     "text": [
      "root\n",
      " |-- ProductName: string (nullable = true)\n",
      " |-- ProductIndex: double (nullable = true)\n",
      " |-- CustomerId: integer (nullable = false)\n",
      " |-- Count: double (nullable = false)\n",
      " |-- prediction: float (nullable = true)\n",
      "\n"
     ]
    }
   ],
   "source": [
    "predictions2 = model.transform(testDF2)\n",
    "predictions2.printSchema()"
   ]
  },
  {
   "cell_type": "code",
   "execution_count": 27,
   "metadata": {},
   "outputs": [
    {
     "name": "stdout",
     "output_type": "stream",
     "text": [
      "+--------------------+------------+----------+-----+----------+\n",
      "|         ProductName|ProductIndex|CustomerId|Count|prediction|\n",
      "+--------------------+------------+----------+-----+----------+\n",
      "|            Perfumes|         0.0|     99970|  0.0|  0.599639|\n",
      "| Wearable Technology|        24.0|     99970|  0.0| 0.5077851|\n",
      "|         Audio books|       153.0|     99970|  0.0|0.44745424|\n",
      "|Soccer clothing &...|        94.0|     99970|  0.0| 0.4139315|\n",
      "|      Branded paints|        70.0|     99970|  0.0|  0.412652|\n",
      "+--------------------+------------+----------+-----+----------+\n",
      "\n"
     ]
    }
   ],
   "source": [
    "predictions2.orderBy(\"prediction\", ascending=False).limit(5).show()"
   ]
  }
 ],
 "metadata": {
  "kernelspec": {
   "display_name": "Python 3",
   "language": "python",
   "name": "python3"
  },
  "language_info": {
   "codemirror_mode": {
    "name": "ipython",
    "version": 3
   },
   "file_extension": ".py",
   "mimetype": "text/x-python",
   "name": "python",
   "nbconvert_exporter": "python",
   "pygments_lexer": "ipython3",
   "version": "3.5.2"
  }
 },
 "nbformat": 4,
 "nbformat_minor": 2
}
