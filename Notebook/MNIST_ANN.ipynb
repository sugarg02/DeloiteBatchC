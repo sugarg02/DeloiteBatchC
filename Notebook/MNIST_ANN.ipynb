{
  "nbformat": 4,
  "nbformat_minor": 0,
  "metadata": {
    "colab": {
      "name": "MNIST ANN.ipynb",
      "provenance": [],
      "collapsed_sections": []
    },
    "kernelspec": {
      "name": "python3",
      "display_name": "Python 3"
    },
    "language_info": {
      "name": "python"
    }
  },
  "cells": [
    {
      "cell_type": "markdown",
      "metadata": {
        "id": "YSScNYkr3W_N"
      },
      "source": [
        "MNIST (Modified National Institute of Standards and Technology) is a well-known dataset used in Computer Vision that was built by Yann Le Cun et. al. It is composed of images that are handwritten digits (0-9), split into a training set of 50,000 images and a test set of 10,000 where each image is of 28 x 28 pixels in width and height"
      ]
    },
    {
      "cell_type": "code",
      "metadata": {
        "id": "GczafuIMGymZ"
      },
      "source": [
        "from keras.datasets import mnist\n",
        "from keras.utils import np_utils"
      ],
      "execution_count": null,
      "outputs": []
    },
    {
      "cell_type": "markdown",
      "metadata": {
        "id": "G-qYluXbHKVc"
      },
      "source": [
        "Load the dataset"
      ]
    },
    {
      "cell_type": "code",
      "metadata": {
        "colab": {
          "base_uri": "https://localhost:8080/"
        },
        "id": "ZGFaEQlGHL15",
        "outputId": "ccdde538-6511-4660-9e77-949345ceaf6f"
      },
      "source": [
        "(X_train,y_train), (X_test,y_test)= mnist.load_data()\n",
        "print(\"X train shape:  \", X_train.shape)\n",
        "print(\"y train shape:  \", y_train.shape)\n",
        "print(\"X test shape:  \", X_test.shape)\n",
        "print(\"y test shape:  \", y_test.shape)"
      ],
      "execution_count": null,
      "outputs": [
        {
          "output_type": "stream",
          "name": "stdout",
          "text": [
            "X train shape:   (60000, 28, 28)\n",
            "y train shape:   (60000,)\n",
            "X test shape:   (10000, 28, 28)\n",
            "y test shape:   (10000,)\n"
          ]
        }
      ]
    },
    {
      "cell_type": "markdown",
      "metadata": {
        "id": "dXvlaCohIE3b"
      },
      "source": [
        "Before we train a CNN model, let’s build a basic Fully Connected Neural Network for the dataset. The basic steps to build an image classification model using a neural network are:\n",
        "1.\tFlatten the input image dimensions to 1D (width pixels x height pixels)\n",
        "2.\tNormalize the image pixel values (divide by 255)\n",
        "3.\tOne-Hot Encode the categorical column\n",
        "4.\tBuild a model architecture (Sequential) with Dense layers\n",
        "5.\tTrain the model and make predictions\n"
      ]
    },
    {
      "cell_type": "markdown",
      "metadata": {
        "id": "K1lJweWtJvDG"
      },
      "source": [
        "1.\tFlatten the input image dimensions to 1D (width pixels x height pixels)"
      ]
    },
    {
      "cell_type": "code",
      "metadata": {
        "id": "BgAHJOVbIupP"
      },
      "source": [
        "X_train = X_train.reshape(60000,784)\n",
        "X_test = X_test.reshape(10000, 784)\n",
        "X_train = X_train.astype('float32')\n",
        "X_test = X_test.astype('float32')"
      ],
      "execution_count": null,
      "outputs": []
    },
    {
      "cell_type": "markdown",
      "metadata": {
        "id": "_06Q0t9XJ1q5"
      },
      "source": [
        ".\tNormalize the image pixel values (divide by 255)"
      ]
    },
    {
      "cell_type": "code",
      "metadata": {
        "id": "kKzgf4jEJ4LN"
      },
      "source": [
        "X_train=X_train/255\n",
        "X_test=X_test/255"
      ],
      "execution_count": null,
      "outputs": []
    },
    {
      "cell_type": "code",
      "metadata": {
        "colab": {
          "base_uri": "https://localhost:8080/"
        },
        "id": "iwSS_PP4KbYM",
        "outputId": "8d4af1c3-fd11-451c-aaf2-bc17009fc721"
      },
      "source": [
        "n_classes=10\n",
        "y_train = np_utils.to_categorical(y_train,n_classes)\n",
        "y_test = np_utils.to_categorical(y_test,n_classes)\n",
        "print(\"y train shape:  \", y_train.shape)\n",
        "print(\"y test shape:  \", y_test.shape)"
      ],
      "execution_count": null,
      "outputs": [
        {
          "output_type": "stream",
          "name": "stdout",
          "text": [
            "y train shape:   (60000, 10)\n",
            "y test shape:   (10000, 10)\n"
          ]
        }
      ]
    },
    {
      "cell_type": "markdown",
      "metadata": {
        "id": "2uD8OLe7LaCm"
      },
      "source": [
        "Build the model"
      ]
    },
    {
      "cell_type": "code",
      "metadata": {
        "id": "SAimruc9LcIF"
      },
      "source": [
        "from keras.models import Sequential\n",
        "model= Sequential()"
      ],
      "execution_count": null,
      "outputs": []
    },
    {
      "cell_type": "code",
      "metadata": {
        "colab": {
          "base_uri": "https://localhost:8080/"
        },
        "id": "q4U1_iQHM7N3",
        "outputId": "eb25c44a-bd3b-43fe-a60d-c40f7b88c505"
      },
      "source": [
        "from keras.layers import Dense\n",
        "model.add(Dense(100, input_shape=(784,), activation = 'relu'))\n",
        "model.add(Dense (10, activation = 'softmax'))\n",
        "model.summary()"
      ],
      "execution_count": null,
      "outputs": [
        {
          "output_type": "stream",
          "name": "stdout",
          "text": [
            "Model: \"sequential\"\n",
            "_________________________________________________________________\n",
            "Layer (type)                 Output Shape              Param #   \n",
            "=================================================================\n",
            "dense (Dense)                (None, 100)               78500     \n",
            "_________________________________________________________________\n",
            "dense_1 (Dense)              (None, 10)                1010      \n",
            "=================================================================\n",
            "Total params: 79,510\n",
            "Trainable params: 79,510\n",
            "Non-trainable params: 0\n",
            "_________________________________________________________________\n"
          ]
        }
      ]
    },
    {
      "cell_type": "code",
      "metadata": {
        "id": "2Zu0x7spOyoT"
      },
      "source": [
        "model.compile(optimizer= 'adam', loss= 'categorical_crossentropy', metrics= ['accuracy'])"
      ],
      "execution_count": null,
      "outputs": []
    },
    {
      "cell_type": "code",
      "metadata": {
        "colab": {
          "base_uri": "https://localhost:8080/"
        },
        "id": "2Qtzi3C-PHlz",
        "outputId": "b85a91d3-ffe5-4e1b-b628-5799e0a2c37d"
      },
      "source": [
        "model.fit(X_train,y_train, batch_size=128, epochs=10, validation_data= (X_test, y_test))"
      ],
      "execution_count": null,
      "outputs": [
        {
          "output_type": "stream",
          "name": "stdout",
          "text": [
            "Epoch 1/10\n",
            "469/469 [==============================] - 3s 5ms/step - loss: 0.3807 - accuracy: 0.8950 - val_loss: 0.2030 - val_accuracy: 0.9418\n",
            "Epoch 2/10\n",
            "469/469 [==============================] - 2s 4ms/step - loss: 0.1786 - accuracy: 0.9489 - val_loss: 0.1512 - val_accuracy: 0.9576\n",
            "Epoch 3/10\n",
            "469/469 [==============================] - 2s 4ms/step - loss: 0.1331 - accuracy: 0.9610 - val_loss: 0.1209 - val_accuracy: 0.9652\n",
            "Epoch 4/10\n",
            "469/469 [==============================] - 2s 4ms/step - loss: 0.1043 - accuracy: 0.9692 - val_loss: 0.1055 - val_accuracy: 0.9687\n",
            "Epoch 5/10\n",
            "469/469 [==============================] - 2s 4ms/step - loss: 0.0861 - accuracy: 0.9747 - val_loss: 0.0947 - val_accuracy: 0.9719\n",
            "Epoch 6/10\n",
            "469/469 [==============================] - 2s 4ms/step - loss: 0.0727 - accuracy: 0.9784 - val_loss: 0.0891 - val_accuracy: 0.9727\n",
            "Epoch 7/10\n",
            "469/469 [==============================] - 2s 4ms/step - loss: 0.0615 - accuracy: 0.9820 - val_loss: 0.0805 - val_accuracy: 0.9771\n",
            "Epoch 8/10\n",
            "469/469 [==============================] - 2s 4ms/step - loss: 0.0531 - accuracy: 0.9845 - val_loss: 0.0836 - val_accuracy: 0.9758\n",
            "Epoch 9/10\n",
            "469/469 [==============================] - 2s 4ms/step - loss: 0.0456 - accuracy: 0.9868 - val_loss: 0.0795 - val_accuracy: 0.9763\n",
            "Epoch 10/10\n",
            "469/469 [==============================] - 2s 4ms/step - loss: 0.0396 - accuracy: 0.9894 - val_loss: 0.0838 - val_accuracy: 0.9753\n"
          ]
        },
        {
          "output_type": "execute_result",
          "data": {
            "text/plain": [
              "<keras.callbacks.History at 0x7f789703f1d0>"
            ]
          },
          "metadata": {},
          "execution_count": 23
        }
      ]
    },
    {
      "cell_type": "markdown",
      "metadata": {
        "id": "P5MC_zilvsRe"
      },
      "source": [
        "Modify the above code for CNN"
      ]
    },
    {
      "cell_type": "code",
      "metadata": {
        "id": "0bmaMJ9tvy9f"
      },
      "source": [
        ""
      ],
      "execution_count": null,
      "outputs": []
    }
  ]
}