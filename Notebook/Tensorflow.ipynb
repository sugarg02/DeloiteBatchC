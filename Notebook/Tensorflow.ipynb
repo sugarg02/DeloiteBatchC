{
  "nbformat": 4,
  "nbformat_minor": 0,
  "metadata": {
    "colab": {
      "name": "Tensorflow.ipynb",
      "provenance": []
    },
    "kernelspec": {
      "name": "python3",
      "display_name": "Python 3"
    },
    "language_info": {
      "name": "python"
    }
  },
  "cells": [
    {
      "cell_type": "code",
      "metadata": {
        "id": "-GL4gZQ6xVZJ"
      },
      "source": [
        "import tensorflow as tf"
      ],
      "execution_count": 1,
      "outputs": []
    },
    {
      "cell_type": "code",
      "metadata": {
        "colab": {
          "base_uri": "https://localhost:8080/",
          "height": 35
        },
        "id": "wTVXAwxv1XcD",
        "outputId": "0fda7d49-7e66-408e-9f21-3f8e0a2dd19f"
      },
      "source": [
        "tf.__version__"
      ],
      "execution_count": 2,
      "outputs": [
        {
          "output_type": "execute_result",
          "data": {
            "application/vnd.google.colaboratory.intrinsic+json": {
              "type": "string"
            },
            "text/plain": [
              "'2.6.0'"
            ]
          },
          "metadata": {},
          "execution_count": 2
        }
      ]
    },
    {
      "cell_type": "code",
      "metadata": {
        "colab": {
          "base_uri": "https://localhost:8080/"
        },
        "id": "eiRhRLZ-3Pcs",
        "outputId": "402098b1-c7e5-4b06-d9f6-d9bac899ce6c"
      },
      "source": [
        "A= tf . constant([[4,3],[6,1]])\n",
        "A"
      ],
      "execution_count": 3,
      "outputs": [
        {
          "output_type": "execute_result",
          "data": {
            "text/plain": [
              "<tf.Tensor: shape=(2, 2), dtype=int32, numpy=\n",
              "array([[4, 3],\n",
              "       [6, 1]], dtype=int32)>"
            ]
          },
          "metadata": {},
          "execution_count": 3
        }
      ]
    },
    {
      "cell_type": "code",
      "metadata": {
        "colab": {
          "base_uri": "https://localhost:8080/"
        },
        "id": "ITbTVmnt3l5p",
        "outputId": "773480e3-d171-46b3-bf76-6fafaf1ca3ec"
      },
      "source": [
        "V= tf . Variable([[3,1],[4,5]])\n",
        "V"
      ],
      "execution_count": 4,
      "outputs": [
        {
          "output_type": "execute_result",
          "data": {
            "text/plain": [
              "<tf.Variable 'Variable:0' shape=(2, 2) dtype=int32, numpy=\n",
              "array([[3, 1],\n",
              "       [4, 5]], dtype=int32)>"
            ]
          },
          "metadata": {},
          "execution_count": 4
        }
      ]
    },
    {
      "cell_type": "code",
      "metadata": {
        "colab": {
          "base_uri": "https://localhost:8080/"
        },
        "id": "lAN6XvjO37ez",
        "outputId": "140fc1c7-bf31-4f9f-b905-1969db6a8da5"
      },
      "source": [
        "AV_concat=tf. concat(values=[A,V], axis=1)\n",
        "AV_concat"
      ],
      "execution_count": 6,
      "outputs": [
        {
          "output_type": "execute_result",
          "data": {
            "text/plain": [
              "<tf.Tensor: shape=(2, 4), dtype=int32, numpy=\n",
              "array([[4, 3, 3, 1],\n",
              "       [6, 1, 4, 5]], dtype=int32)>"
            ]
          },
          "metadata": {},
          "execution_count": 6
        }
      ]
    },
    {
      "cell_type": "code",
      "metadata": {
        "colab": {
          "base_uri": "https://localhost:8080/"
        },
        "id": "ZAbWfy0E4UK4",
        "outputId": "48d202b2-1251-435f-855f-b80a6b4a6b00"
      },
      "source": [
        "AV_concat=tf. concat(values=[A,V], axis=0)\n",
        "AV_concat"
      ],
      "execution_count": 7,
      "outputs": [
        {
          "output_type": "execute_result",
          "data": {
            "text/plain": [
              "<tf.Tensor: shape=(4, 2), dtype=int32, numpy=\n",
              "array([[4, 3],\n",
              "       [6, 1],\n",
              "       [3, 1],\n",
              "       [4, 5]], dtype=int32)>"
            ]
          },
          "metadata": {},
          "execution_count": 7
        }
      ]
    },
    {
      "cell_type": "code",
      "metadata": {
        "colab": {
          "base_uri": "https://localhost:8080/"
        },
        "id": "e28h-FPX4bmY",
        "outputId": "9b8c8f9e-58bd-4c8b-f127-e4d8d0268b44"
      },
      "source": [
        "tensor=tf.zeros(shape=[3,4], dtype=tf.float32)\n",
        "tensor"
      ],
      "execution_count": 10,
      "outputs": [
        {
          "output_type": "execute_result",
          "data": {
            "text/plain": [
              "<tf.Tensor: shape=(3, 4), dtype=float32, numpy=\n",
              "array([[0., 0., 0., 0.],\n",
              "       [0., 0., 0., 0.],\n",
              "       [0., 0., 0., 0.]], dtype=float32)>"
            ]
          },
          "metadata": {},
          "execution_count": 10
        }
      ]
    },
    {
      "cell_type": "code",
      "metadata": {
        "colab": {
          "base_uri": "https://localhost:8080/"
        },
        "id": "ESfNDZXM5B1C",
        "outputId": "8b89b389-5722-46a6-d888-6907e0c3f123"
      },
      "source": [
        "tensor_ones=tf.ones(shape=[3,4], dtype=tf.int32)\n",
        "tensor_ones"
      ],
      "execution_count": 9,
      "outputs": [
        {
          "output_type": "execute_result",
          "data": {
            "text/plain": [
              "<tf.Tensor: shape=(3, 4), dtype=int32, numpy=\n",
              "array([[1, 1, 1, 1],\n",
              "       [1, 1, 1, 1],\n",
              "       [1, 1, 1, 1]], dtype=int32)>"
            ]
          },
          "metadata": {},
          "execution_count": 9
        }
      ]
    },
    {
      "cell_type": "code",
      "metadata": {
        "colab": {
          "base_uri": "https://localhost:8080/"
        },
        "id": "VJjFFVft5Tmq",
        "outputId": "2a9f0062-478f-4a71-efbc-dfb3aa40181b"
      },
      "source": [
        "tensor_rand=tf.random.uniform(shape=[3,4], minval=4, maxval=10, dtype=tf.int32)\n",
        "tensor_rand"
      ],
      "execution_count": 13,
      "outputs": [
        {
          "output_type": "execute_result",
          "data": {
            "text/plain": [
              "<tf.Tensor: shape=(3, 4), dtype=int32, numpy=\n",
              "array([[5, 9, 9, 6],\n",
              "       [4, 6, 4, 9],\n",
              "       [4, 6, 7, 5]], dtype=int32)>"
            ]
          },
          "metadata": {},
          "execution_count": 13
        }
      ]
    },
    {
      "cell_type": "code",
      "metadata": {
        "colab": {
          "base_uri": "https://localhost:8080/"
        },
        "id": "HCx6aEX85trl",
        "outputId": "4c10a577-3116-420e-fcac-3ff697959340"
      },
      "source": [
        "t_reshape=tf.reshape(tensor=tensor_rand,shape=[1,12])\n",
        "t_reshape"
      ],
      "execution_count": 18,
      "outputs": [
        {
          "output_type": "execute_result",
          "data": {
            "text/plain": [
              "<tf.Tensor: shape=(1, 12), dtype=int32, numpy=array([[5, 9, 9, 6, 4, 6, 4, 9, 4, 6, 7, 5]], dtype=int32)>"
            ]
          },
          "metadata": {},
          "execution_count": 18
        }
      ]
    },
    {
      "cell_type": "code",
      "metadata": {
        "colab": {
          "base_uri": "https://localhost:8080/"
        },
        "id": "risr7yww6prF",
        "outputId": "c0414ce1-1b38-4e46-bee2-043efb2ef771"
      },
      "source": [
        "trans=tf.transpose(t_reshape)\n",
        "trans"
      ],
      "execution_count": 20,
      "outputs": [
        {
          "output_type": "execute_result",
          "data": {
            "text/plain": [
              "<tf.Tensor: shape=(12, 1), dtype=int32, numpy=\n",
              "array([[5],\n",
              "       [9],\n",
              "       [9],\n",
              "       [6],\n",
              "       [4],\n",
              "       [6],\n",
              "       [4],\n",
              "       [9],\n",
              "       [4],\n",
              "       [6],\n",
              "       [7],\n",
              "       [5]], dtype=int32)>"
            ]
          },
          "metadata": {},
          "execution_count": 20
        }
      ]
    },
    {
      "cell_type": "code",
      "metadata": {
        "colab": {
          "base_uri": "https://localhost:8080/"
        },
        "id": "J5FWw8sy63st",
        "outputId": "58eed6dc-3310-4db2-ecac-74a3985287fb"
      },
      "source": [
        "\n",
        "A_identity=tf.eye(num_rows=3, num_columns=3)\n",
        "A_identity"
      ],
      "execution_count": 26,
      "outputs": [
        {
          "output_type": "execute_result",
          "data": {
            "text/plain": [
              "<tf.Tensor: shape=(3, 3), dtype=float32, numpy=\n",
              "array([[1., 0., 0.],\n",
              "       [0., 1., 0.],\n",
              "       [0., 0., 1.]], dtype=float32)>"
            ]
          },
          "metadata": {},
          "execution_count": 26
        }
      ]
    },
    {
      "cell_type": "code",
      "metadata": {
        "colab": {
          "base_uri": "https://localhost:8080/"
        },
        "id": "nWS9ivjP7mgc",
        "outputId": "d39a3ade-c9aa-42cc-a79e-d1b8f79305a9"
      },
      "source": [
        "row,col=AV_concat.shape\n",
        "print(row)\n",
        "col"
      ],
      "execution_count": 28,
      "outputs": [
        {
          "output_type": "stream",
          "name": "stdout",
          "text": [
            "4\n"
          ]
        },
        {
          "output_type": "execute_result",
          "data": {
            "text/plain": [
              "2"
            ]
          },
          "metadata": {},
          "execution_count": 28
        }
      ]
    },
    {
      "cell_type": "code",
      "metadata": {
        "colab": {
          "base_uri": "https://localhost:8080/"
        },
        "id": "uC-ttxHW70xx",
        "outputId": "59ad781e-d5be-4f14-a011-6739894f73ef"
      },
      "source": [
        "A= tf . constant([[4,3],[6,1]])\n",
        "B= tf . constant([[3,1],[5,4]])\n",
        "AB_matmul=tf.matmul(A,B)\n",
        "AB_matmul"
      ],
      "execution_count": 29,
      "outputs": [
        {
          "output_type": "execute_result",
          "data": {
            "text/plain": [
              "<tf.Tensor: shape=(2, 2), dtype=int32, numpy=\n",
              "array([[27, 16],\n",
              "       [23, 10]], dtype=int32)>"
            ]
          },
          "metadata": {},
          "execution_count": 29
        }
      ]
    },
    {
      "cell_type": "code",
      "metadata": {
        "colab": {
          "base_uri": "https://localhost:8080/"
        },
        "id": "7xrM8xOO8LoV",
        "outputId": "88c34a40-a9ae-42f5-f9bb-9e8086bef6ed"
      },
      "source": [
        "AB_mul=tf.multiply(A,B)\n",
        "AB_mul"
      ],
      "execution_count": 30,
      "outputs": [
        {
          "output_type": "execute_result",
          "data": {
            "text/plain": [
              "<tf.Tensor: shape=(2, 2), dtype=int32, numpy=\n",
              "array([[12,  3],\n",
              "       [30,  4]], dtype=int32)>"
            ]
          },
          "metadata": {},
          "execution_count": 30
        }
      ]
    },
    {
      "cell_type": "code",
      "metadata": {
        "colab": {
          "base_uri": "https://localhost:8080/"
        },
        "id": "ZtfNfuPS8Rhv",
        "outputId": "2d76dfb9-f2b7-4b61-f27c-bb677f6cfb1c"
      },
      "source": [
        "A*3"
      ],
      "execution_count": 31,
      "outputs": [
        {
          "output_type": "execute_result",
          "data": {
            "text/plain": [
              "<tf.Tensor: shape=(2, 2), dtype=int32, numpy=\n",
              "array([[12,  9],\n",
              "       [18,  3]], dtype=int32)>"
            ]
          },
          "metadata": {},
          "execution_count": 31
        }
      ]
    },
    {
      "cell_type": "code",
      "metadata": {
        "id": "e907zk1k87nG"
      },
      "source": [
        "A= tf . constant([[4.1,3.2],[6.3,1.4]])\n",
        "my_var=tf.Variable(A)\n",
        "bool_var= tf.Variable([False,False,True])\n",
        "complex_var=tf.Variable([2+4j, 6+3j])"
      ],
      "execution_count": 35,
      "outputs": []
    },
    {
      "cell_type": "code",
      "metadata": {
        "colab": {
          "base_uri": "https://localhost:8080/"
        },
        "id": "63SFWEcR9flk",
        "outputId": "5c283eb2-a930-492f-8f33-42f78896df1a"
      },
      "source": [
        "print(\"Shape: \", my_var.shape)\n",
        "print(\"DType: \", my_var.dtype)\n",
        "my_var\n"
      ],
      "execution_count": 42,
      "outputs": [
        {
          "output_type": "stream",
          "name": "stdout",
          "text": [
            "Shape:  (2, 2)\n",
            "DType:  <dtype: 'float32'>\n"
          ]
        },
        {
          "output_type": "execute_result",
          "data": {
            "text/plain": [
              "<tf.Variable 'Variable:0' shape=(2, 2) dtype=float32, numpy=\n",
              "array([[4.1, 3.2],\n",
              "       [6.3, 1.4]], dtype=float32)>"
            ]
          },
          "metadata": {},
          "execution_count": 42
        }
      ]
    },
    {
      "cell_type": "code",
      "metadata": {
        "colab": {
          "base_uri": "https://localhost:8080/"
        },
        "id": "4devytJq97qT",
        "outputId": "5fc0f5cb-8f04-44ef-ad7f-58e0cd9cb965"
      },
      "source": [
        "print(\"Shape: \", bool_var.shape)\n",
        "print(\"DType: \", bool_var.dtype)"
      ],
      "execution_count": 37,
      "outputs": [
        {
          "output_type": "stream",
          "name": "stdout",
          "text": [
            "Shape:  (3,)\n",
            "DType:  <dtype: 'bool'>\n"
          ]
        }
      ]
    },
    {
      "cell_type": "code",
      "metadata": {
        "colab": {
          "base_uri": "https://localhost:8080/"
        },
        "id": "vHTJk6Cb97zb",
        "outputId": "ea3d29cc-dc3c-4777-be0f-ccb7ed56e49f"
      },
      "source": [
        "print(\"Shape: \", complex_var.shape)\n",
        "print(\"DType: \", complex_var.dtype)"
      ],
      "execution_count": 38,
      "outputs": [
        {
          "output_type": "stream",
          "name": "stdout",
          "text": [
            "Shape:  (2,)\n",
            "DType:  <dtype: 'complex128'>\n"
          ]
        }
      ]
    },
    {
      "cell_type": "code",
      "metadata": {
        "colab": {
          "base_uri": "https://localhost:8080/"
        },
        "id": "g-gvxauy-PwV",
        "outputId": "8c563fac-f3d7-4504-82da-7d754a36776c"
      },
      "source": [
        "tf.reshape(my_var,[4,1])"
      ],
      "execution_count": 39,
      "outputs": [
        {
          "output_type": "execute_result",
          "data": {
            "text/plain": [
              "<tf.Tensor: shape=(4, 1), dtype=float32, numpy=\n",
              "array([[4.1],\n",
              "       [3.2],\n",
              "       [6.3],\n",
              "       [1.4]], dtype=float32)>"
            ]
          },
          "metadata": {},
          "execution_count": 39
        }
      ]
    },
    {
      "cell_type": "code",
      "metadata": {
        "colab": {
          "base_uri": "https://localhost:8080/"
        },
        "id": "ac27LhBD-0_5",
        "outputId": "5df05a03-3e41-4345-f769-e6f6db79457e"
      },
      "source": [
        "a=tf.Variable(my_var, name=\"John\")\n",
        "b=tf.Variable(my_var, name=\"John1\")\n",
        "print(a==b)"
      ],
      "execution_count": 46,
      "outputs": [
        {
          "output_type": "stream",
          "name": "stdout",
          "text": [
            "tf.Tensor(\n",
            "[[ True  True]\n",
            " [ True  True]], shape=(2, 2), dtype=bool)\n"
          ]
        }
      ]
    },
    {
      "cell_type": "markdown",
      "metadata": {
        "id": "pv5MUN7YBU2f"
      },
      "source": [
        "Sparse tensor"
      ]
    },
    {
      "cell_type": "code",
      "metadata": {
        "colab": {
          "base_uri": "https://localhost:8080/"
        },
        "id": "7keVqFi8BQ3M",
        "outputId": "762ee8b0-8e88-4040-c0f5-85fecf1255c7"
      },
      "source": [
        "sparse_tensor=tf. sparse.SparseTensor(indices=[[0,0],[1,2]],values=[3,4], dense_shape=[3,4])\n",
        "print(sparse_tensor)"
      ],
      "execution_count": 48,
      "outputs": [
        {
          "output_type": "stream",
          "name": "stdout",
          "text": [
            "SparseTensor(indices=tf.Tensor(\n",
            "[[0 0]\n",
            " [1 2]], shape=(2, 2), dtype=int64), values=tf.Tensor([3 4], shape=(2,), dtype=int32), dense_shape=tf.Tensor([3 4], shape=(2,), dtype=int64))\n"
          ]
        }
      ]
    }
  ]
}