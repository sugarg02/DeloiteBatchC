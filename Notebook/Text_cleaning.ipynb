{
  "nbformat": 4,
  "nbformat_minor": 0,
  "metadata": {
    "colab": {
      "name": "Text cleaning.ipynb",
      "provenance": [],
      "collapsed_sections": []
    },
    "kernelspec": {
      "name": "python3",
      "display_name": "Python 3"
    },
    "language_info": {
      "name": "python"
    }
  },
  "cells": [
    {
      "cell_type": "markdown",
      "metadata": {
        "id": "lBGEuV4cRyIu"
      },
      "source": [
        "Text cleaning"
      ]
    },
    {
      "cell_type": "markdown",
      "metadata": {
        "id": "RmPKdnUcS4I2"
      },
      "source": [
        "Removing extra spaces"
      ]
    },
    {
      "cell_type": "code",
      "metadata": {
        "id": "LSg1mwQsRmFV"
      },
      "source": [
        "import re\n",
        "import nltk\n",
        "nltk.download('stopwords')\n",
        "from nltk.corpus import stopwords\n",
        "doc=\" NLP is   an        interesting     field.  \"\n",
        "#regular expressions\n",
        "new_doc= re.sub(\"\\s+\", \" \", doc)\n",
        "new_doc"
      ],
      "execution_count": null,
      "outputs": []
    },
    {
      "cell_type": "markdown",
      "metadata": {
        "id": "DAjqYgR_S7Dn"
      },
      "source": [
        "Remove puntuations"
      ]
    },
    {
      "cell_type": "code",
      "metadata": {
        "id": "nzDaeCmWS2uI"
      },
      "source": [
        "# . @ $% ^ & , . ; :\n",
        "text = \"Hello! How are you ? Pleased to meet u all!!\"\n",
        "re.sub(\"[^0-9A-Za-z]\",\" \",text)\n",
        "re"
      ],
      "execution_count": null,
      "outputs": []
    },
    {
      "cell_type": "markdown",
      "metadata": {
        "id": "7RgD-Q-vU3FU"
      },
      "source": [
        "Case normalisation"
      ]
    },
    {
      "cell_type": "code",
      "metadata": {
        "id": "APPDEcHPU7-_"
      },
      "source": [
        "tex=\"Hello Alll It SHEETAL\"\n",
        "tex.lower()"
      ],
      "execution_count": null,
      "outputs": []
    },
    {
      "cell_type": "code",
      "metadata": {
        "id": "sim4wQ0iVIft"
      },
      "source": [
        "tex.upper()"
      ],
      "execution_count": null,
      "outputs": []
    },
    {
      "cell_type": "markdown",
      "metadata": {
        "id": "8CZsvvz2VQRM"
      },
      "source": [
        "Tokenization"
      ]
    },
    {
      "cell_type": "code",
      "metadata": {
        "id": "xLNkiAQ6WtNE"
      },
      "source": [
        "import nltk\n",
        "nltk.download('punkt')"
      ],
      "execution_count": null,
      "outputs": []
    },
    {
      "cell_type": "code",
      "metadata": {
        "id": "3Y_iDT9aVTzZ"
      },
      "source": [
        "#word_tokenize()\n",
        "\n",
        "from nltk.tokenize import word_tokenize\n",
        "text = \"Hello! How are you ? Pleased to meet u all!!\"\n",
        "text=re.sub(\"[^0-9A-Za-z]\",\" \",text)\n",
        "text=text.lower()\n",
        "text=text.split()\n",
        "\n"
      ],
      "execution_count": 70,
      "outputs": []
    },
    {
      "cell_type": "markdown",
      "metadata": {
        "id": "0UqLT5isXHti"
      },
      "source": [
        "Removing Stopwords"
      ]
    },
    {
      "cell_type": "code",
      "metadata": {
        "id": "tXLtflgeXIWS"
      },
      "source": [
        "stopwords= nltk.corpus.stopwords.words(\"english\")\n",
        "ps = nltk.PorterStemmer()"
      ],
      "execution_count": 69,
      "outputs": []
    },
    {
      "cell_type": "code",
      "metadata": {
        "colab": {
          "base_uri": "https://localhost:8080/",
          "height": 35
        },
        "id": "fy8_iFKkY9AP",
        "outputId": "860e17c1-3d3d-48de-cddf-543ebe3ac428"
      },
      "source": [
        "word=\" \".join([ps.stem(i) for i in text if i not in stopwords])\n",
        "word"
      ],
      "execution_count": 71,
      "outputs": [
        {
          "output_type": "execute_result",
          "data": {
            "application/vnd.google.colaboratory.intrinsic+json": {
              "type": "string"
            },
            "text/plain": [
              "'hello pleas meet u'"
            ]
          },
          "metadata": {},
          "execution_count": 71
        }
      ]
    },
    {
      "cell_type": "markdown",
      "metadata": {
        "id": "9vx_rP2FaoPz"
      },
      "source": [
        "Stemming"
      ]
    }
  ]
}