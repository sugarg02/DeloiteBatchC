{
  "nbformat": 4,
  "nbformat_minor": 0,
  "metadata": {
    "kernelspec": {
      "display_name": "Python 3",
      "language": "python",
      "name": "python3"
    },
    "language_info": {
      "codemirror_mode": {
        "name": "ipython",
        "version": 3
      },
      "file_extension": ".py",
      "mimetype": "text/x-python",
      "name": "python",
      "nbconvert_exporter": "python",
      "pygments_lexer": "ipython3",
      "version": "3.4.3"
    },
    "colab": {
      "name": "accumulatordemo.ipynb",
      "provenance": []
    }
  },
  "cells": [
    {
      "cell_type": "code",
      "metadata": {
        "id": "lQErzHYlofh4"
      },
      "source": [
        "import findspark\n",
        "findspark.init()"
      ],
      "execution_count": null,
      "outputs": []
    },
    {
      "cell_type": "code",
      "metadata": {
        "id": "mCzZVyX3ofh6"
      },
      "source": [
        "import pyspark\n",
        "sc = pyspark.SparkContext(appName='accumulatorExample')"
      ],
      "execution_count": null,
      "outputs": []
    },
    {
      "cell_type": "code",
      "metadata": {
        "id": "rwS_shzxofh7"
      },
      "source": [
        "file = sc.textFile(\"war_and_peace.txt\",4)"
      ],
      "execution_count": null,
      "outputs": []
    },
    {
      "cell_type": "markdown",
      "metadata": {
        "id": "D-ECUKFBofh7"
      },
      "source": [
        "Create an Accumulator[Int] initialized to 0"
      ]
    },
    {
      "cell_type": "code",
      "metadata": {
        "id": "iQCnOqbuofh9"
      },
      "source": [
        "blankLines = sc.accumulator(0)"
      ],
      "execution_count": null,
      "outputs": []
    },
    {
      "cell_type": "code",
      "metadata": {
        "id": "9pPuWFBCofh9"
      },
      "source": [
        "def extractTextLines(line):\n",
        "    global blankLines # Make the global variable accessible\n",
        "    if (line == \"\"):\n",
        "        blankLines += 1\n",
        "    return line.split(\" \")"
      ],
      "execution_count": null,
      "outputs": []
    },
    {
      "cell_type": "code",
      "metadata": {
        "id": "tquC8vkLofh-"
      },
      "source": [
        "textLines = file.flatMap(extractTextLines)"
      ],
      "execution_count": null,
      "outputs": []
    },
    {
      "cell_type": "code",
      "metadata": {
        "id": "evSOq_bzofh-"
      },
      "source": [
        "textLines.saveAsTextFile(\"textLinesoutput\")"
      ],
      "execution_count": null,
      "outputs": []
    },
    {
      "cell_type": "code",
      "metadata": {
        "id": "1ujlZ8u7ofh_",
        "outputId": "b325ce95-7471-4802-84fc-785266e9c406"
      },
      "source": [
        "print(\"Blank lines %d\" % (blankLines.value))"
      ],
      "execution_count": null,
      "outputs": [
        {
          "name": "stdout",
          "output_type": "stream",
          "text": [
            "Blank lines 12975\n"
          ]
        }
      ]
    },
    {
      "cell_type": "code",
      "metadata": {
        "id": "Xf2OZu4OofiA"
      },
      "source": [
        "sc.stop()"
      ],
      "execution_count": null,
      "outputs": []
    },
    {
      "cell_type": "code",
      "metadata": {
        "id": "AlBghpdLofiA"
      },
      "source": [
        ""
      ],
      "execution_count": null,
      "outputs": []
    }
  ]
}